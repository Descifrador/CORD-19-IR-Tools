{
 "cells": [
  {
   "cell_type": "code",
   "execution_count": 8,
   "id": "8e65091d",
   "metadata": {},
   "outputs": [],
   "source": [
    "import nltk\n",
    "from nltk.stem import WordNetLemmatizer\n",
    "from sklearn.metrics.pairwise import cosine_similarity"
   ]
  },
  {
   "cell_type": "code",
   "execution_count": 9,
   "id": "16bae233",
   "metadata": {},
   "outputs": [],
   "source": [
    "import pandas as pd\n",
    "import numpy as np\n",
    "import dill as pickle\n",
    "import sqlite3"
   ]
  },
  {
   "cell_type": "code",
   "execution_count": 10,
   "id": "b9ec02e2",
   "metadata": {},
   "outputs": [],
   "source": [
    "con = sqlite3.connect(\"../cord.db\")\n",
    "df = pd.read_sql_query(\"SELECT title, abstract, authors, body_text FROM cord19\", con)"
   ]
  },
  {
   "cell_type": "code",
   "execution_count": 12,
   "id": "02988682",
   "metadata": {},
   "outputs": [],
   "source": [
    "with open('../data/vectorizer.pickle', 'rb') as file:\n",
    "    vectorizer = pickle.load(file)\n",
    "    \n",
    "with open('../data/title_tf_idf.pickle', 'rb') as file:\n",
    "    title_tf_idf = pickle.load(file)\n",
    "    \n",
    "with open('../data/document_tf_idf.pickle', 'rb') as file:\n",
    "    document_tf_idf = pickle.load(file)"
   ]
  },
  {
   "cell_type": "code",
   "execution_count": 13,
   "id": "b8c84e21",
   "metadata": {},
   "outputs": [],
   "source": [
    "title_weight = 0.65\n",
    "document_weight = 1 - title_weight"
   ]
  },
  {
   "cell_type": "code",
   "execution_count": 44,
   "id": "d6e38ecd",
   "metadata": {},
   "outputs": [],
   "source": [
    "query = ['mRNA Vaccines']"
   ]
  },
  {
   "cell_type": "code",
   "execution_count": 45,
   "id": "aa3a7c09",
   "metadata": {},
   "outputs": [],
   "source": [
    "query_tf_idf = vectorizer.transform(query)"
   ]
  },
  {
   "cell_type": "code",
   "execution_count": 46,
   "id": "50e6f778",
   "metadata": {},
   "outputs": [
    {
     "name": "stdout",
     "output_type": "stream",
     "text": [
      "  (0, 2029)\t0.596789473107744\n",
      "  (0, 1208)\t0.8023978594112657\n"
     ]
    }
   ],
   "source": [
    "print(query_tf_idf)"
   ]
  },
  {
   "cell_type": "code",
   "execution_count": 47,
   "id": "164a2466",
   "metadata": {},
   "outputs": [],
   "source": [
    "sim = title_weight * cosine_similarity(title_tf_idf, query_tf_idf) + document_weight * cosine_similarity(document_tf_idf, query_tf_idf) "
   ]
  },
  {
   "cell_type": "code",
   "execution_count": 48,
   "id": "b81cea0b",
   "metadata": {},
   "outputs": [
    {
     "name": "stdout",
     "output_type": "stream",
     "text": [
      "3657\n"
     ]
    }
   ],
   "source": [
    "print(sim.argmax())"
   ]
  },
  {
   "cell_type": "code",
   "execution_count": 49,
   "id": "c8cb8aaf",
   "metadata": {},
   "outputs": [
    {
     "data": {
      "text/plain": [
       "'A Comparison of Plasmid DNA and mRNA as Vaccine Technologies'"
      ]
     },
     "execution_count": 49,
     "metadata": {},
     "output_type": "execute_result"
    }
   ],
   "source": [
    "df.iloc[sim.argmax()]['title']"
   ]
  },
  {
   "cell_type": "code",
   "execution_count": 50,
   "id": "b9fbafbf",
   "metadata": {},
   "outputs": [
    {
     "data": {
      "text/plain": [
       "'This review provides a comparison of the theoretical issues and experimental findings for plasmid DNA and mRNA vaccine technologies. While both have been under development since the 1990s, in recent years, significant excitement has turned to mRNA despite the licensure of several veterinary DNA vaccines. Both have required efforts to increase their potency either via manipulating the plasmid DNA and the mRNA directly or through the addition of adjuvants or immunomodulators as well as delivery systems and formulations. The greater inherent inflammatory nature of the mRNA vaccines is discussed for both its potential immunological utility for vaccines and for the potential toxicity. The status of the clinical trials of mRNA vaccines is described along with a comparison to DNA vaccines, specifically the immunogenicity of both licensed veterinary DNA vaccines and select DNA vaccine candidates in human clinical trials.'"
      ]
     },
     "execution_count": 50,
     "metadata": {},
     "output_type": "execute_result"
    }
   ],
   "source": [
    "df.iloc[sim.argmax()]['abstract']"
   ]
  },
  {
   "cell_type": "code",
   "execution_count": 29,
   "id": "b38dec1d",
   "metadata": {},
   "outputs": [
    {
     "data": {
      "text/plain": [
       "''"
      ]
     },
     "execution_count": 29,
     "metadata": {},
     "output_type": "execute_result"
    }
   ],
   "source": [
    "df.iloc[sim.argmax()]['body_text']"
   ]
  },
  {
   "cell_type": "code",
   "execution_count": null,
   "id": "801e83f4",
   "metadata": {},
   "outputs": [],
   "source": []
  }
 ],
 "metadata": {
  "interpreter": {
   "hash": "1e291e0bbfcbaa0c01b86ae1ced984cafb447766c8d33fa2db84f5e188a4f964"
  },
  "kernelspec": {
   "display_name": "deep-learning",
   "language": "python",
   "name": "python3"
  },
  "language_info": {
   "codemirror_mode": {
    "name": "ipython",
    "version": 3
   },
   "file_extension": ".py",
   "mimetype": "text/x-python",
   "name": "python",
   "nbconvert_exporter": "python",
   "pygments_lexer": "ipython3",
   "version": "3.9.7"
  }
 },
 "nbformat": 4,
 "nbformat_minor": 5
}
