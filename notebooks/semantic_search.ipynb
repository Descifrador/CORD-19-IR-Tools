{
 "cells": [
  {
   "cell_type": "code",
   "execution_count": 2,
   "id": "16bae233",
   "metadata": {},
   "outputs": [],
   "source": [
    "import torch\n",
    "from sentence_transformers import SentenceTransformer\n",
    "from sklearn.metrics.pairwise import cosine_similarity\n",
    "from sklearn.preprocessing import normalize\n",
    "\n",
    "import faiss  \n",
    "import pandas as pd\n",
    "import numpy as np\n",
    "import dill as pickle\n",
    "import sqlite3"
   ]
  },
  {
   "cell_type": "code",
   "execution_count": 3,
   "id": "b9ec02e2",
   "metadata": {},
   "outputs": [],
   "source": [
    "con = sqlite3.connect(\"../cord.db\")\n",
    "df = pd.read_sql_query(\"SELECT title, abstract, authors, body_text FROM cord19\", con)"
   ]
  },
  {
   "cell_type": "code",
   "execution_count": 6,
   "id": "e467cc85",
   "metadata": {},
   "outputs": [
    {
     "data": {
      "text/html": [
       "<div>\n",
       "<style scoped>\n",
       "    .dataframe tbody tr th:only-of-type {\n",
       "        vertical-align: middle;\n",
       "    }\n",
       "\n",
       "    .dataframe tbody tr th {\n",
       "        vertical-align: top;\n",
       "    }\n",
       "\n",
       "    .dataframe thead th {\n",
       "        text-align: right;\n",
       "    }\n",
       "</style>\n",
       "<table border=\"1\" class=\"dataframe\">\n",
       "  <thead>\n",
       "    <tr style=\"text-align: right;\">\n",
       "      <th></th>\n",
       "      <th>cord_uid</th>\n",
       "      <th>title</th>\n",
       "      <th>doi</th>\n",
       "      <th>pubmed_id</th>\n",
       "      <th>license</th>\n",
       "      <th>abstract</th>\n",
       "      <th>publish_time</th>\n",
       "      <th>authors</th>\n",
       "      <th>journal</th>\n",
       "      <th>pdf_json_files</th>\n",
       "      <th>url</th>\n",
       "      <th>body_text</th>\n",
       "    </tr>\n",
       "  </thead>\n",
       "  <tbody>\n",
       "    <tr>\n",
       "      <th>3835</th>\n",
       "      <td>s8ohts1j</td>\n",
       "      <td>The metaRbolomics Toolbox in Bioconductor and ...</td>\n",
       "      <td>10.3390/metabo9100200</td>\n",
       "      <td>31548506</td>\n",
       "      <td>cc-by</td>\n",
       "      <td>Metabolomics aims to measure and characterise ...</td>\n",
       "      <td>2019-09-23</td>\n",
       "      <td>Stanstrup, Jan; Broeckling, Corey D.; Helmus, ...</td>\n",
       "      <td>Metabolites</td>\n",
       "      <td>document_parses/pdf_json/8c44e37bccf0c2a493e1b...</td>\n",
       "      <td>https://www.ncbi.nlm.nih.gov/pmc/articles/PMC6...</td>\n",
       "      <td>Metabolomics aims to measure, identify and (se...</td>\n",
       "    </tr>\n",
       "    <tr>\n",
       "      <th>421</th>\n",
       "      <td>5z3s5pjl</td>\n",
       "      <td>The calculation of information and organismal ...</td>\n",
       "      <td>10.1186/1745-6150-5-59</td>\n",
       "      <td>20937149</td>\n",
       "      <td>cc-by</td>\n",
       "      <td>BACKGROUND: It is difficult to measure precise...</td>\n",
       "      <td>2010-10-12</td>\n",
       "      <td>Jiang, Yun; Xu, Cunshuan</td>\n",
       "      <td>Biol Direct</td>\n",
       "      <td>document_parses/pdf_json/6daca390ad9b7e330f843...</td>\n",
       "      <td>https://www.ncbi.nlm.nih.gov/pmc/articles/PMC2...</td>\n",
       "      <td>Organismal complexity is difficult to define a...</td>\n",
       "    </tr>\n",
       "  </tbody>\n",
       "</table>\n",
       "</div>"
      ],
      "text/plain": [
       "      cord_uid                                              title  \\\n",
       "3835  s8ohts1j  The metaRbolomics Toolbox in Bioconductor and ...   \n",
       "421   5z3s5pjl  The calculation of information and organismal ...   \n",
       "\n",
       "                         doi pubmed_id license  \\\n",
       "3835   10.3390/metabo9100200  31548506   cc-by   \n",
       "421   10.1186/1745-6150-5-59  20937149   cc-by   \n",
       "\n",
       "                                               abstract publish_time  \\\n",
       "3835  Metabolomics aims to measure and characterise ...   2019-09-23   \n",
       "421   BACKGROUND: It is difficult to measure precise...   2010-10-12   \n",
       "\n",
       "                                                authors      journal  \\\n",
       "3835  Stanstrup, Jan; Broeckling, Corey D.; Helmus, ...  Metabolites   \n",
       "421                            Jiang, Yun; Xu, Cunshuan  Biol Direct   \n",
       "\n",
       "                                         pdf_json_files  \\\n",
       "3835  document_parses/pdf_json/8c44e37bccf0c2a493e1b...   \n",
       "421   document_parses/pdf_json/6daca390ad9b7e330f843...   \n",
       "\n",
       "                                                    url  \\\n",
       "3835  https://www.ncbi.nlm.nih.gov/pmc/articles/PMC6...   \n",
       "421   https://www.ncbi.nlm.nih.gov/pmc/articles/PMC2...   \n",
       "\n",
       "                                              body_text  \n",
       "3835  Metabolomics aims to measure, identify and (se...  \n",
       "421   Organismal complexity is difficult to define a...  "
      ]
     },
     "execution_count": 6,
     "metadata": {},
     "output_type": "execute_result"
    }
   ],
   "source": [
    "a = pd.read_sql_query(\"SELECT * FROM cord19\", con)\n",
    "a.iloc[[3835, 421], :]"
   ]
  },
  {
   "cell_type": "code",
   "execution_count": 4,
   "id": "0638d07a",
   "metadata": {},
   "outputs": [
    {
     "name": "stderr",
     "output_type": "stream",
     "text": [
      "WARNING:root:No sentence-transformers model found with name /home/arnav/.cache/torch/sentence_transformers/monologg_biobert_v1.1_pubmed. Creating a new one with MEAN pooling.\n",
      "Some weights of the model checkpoint at /home/arnav/.cache/torch/sentence_transformers/monologg_biobert_v1.1_pubmed were not used when initializing BertModel: ['cls.predictions.transform.LayerNorm.weight', 'cls.predictions.transform.dense.weight', 'cls.seq_relationship.weight', 'cls.predictions.decoder.weight', 'cls.seq_relationship.bias', 'cls.predictions.transform.LayerNorm.bias', 'cls.predictions.transform.dense.bias', 'cls.predictions.bias']\n",
      "- This IS expected if you are initializing BertModel from the checkpoint of a model trained on another task or with another architecture (e.g. initializing a BertForSequenceClassification model from a BertForPreTraining model).\n",
      "- This IS NOT expected if you are initializing BertModel from the checkpoint of a model that you expect to be exactly identical (initializing a BertForSequenceClassification model from a BertForSequenceClassification model).\n"
     ]
    }
   ],
   "source": [
    "model = SentenceTransformer('monologg/biobert_v1.1_pubmed')"
   ]
  },
  {
   "cell_type": "code",
   "execution_count": 5,
   "id": "191c1f2f",
   "metadata": {},
   "outputs": [
    {
     "name": "stdout",
     "output_type": "stream",
     "text": [
      "cuda:0\n"
     ]
    }
   ],
   "source": [
    "if torch.cuda.is_available():\n",
    "   model = model.to(torch.device(\"cuda\"))\n",
    "print(model.device)"
   ]
  },
  {
   "cell_type": "code",
   "execution_count": 7,
   "id": "02988682",
   "metadata": {},
   "outputs": [],
   "source": [
    "with open('../data/title_embeddings.pickle', 'rb') as file:\n",
    "    title_embeddings = pickle.load(file)\n",
    "    \n",
    "with open('../data/document_embeddings.pickle', 'rb') as file:\n",
    "    document_embeddings = pickle.load(file)"
   ]
  },
  {
   "cell_type": "code",
   "execution_count": 159,
   "id": "9a1820e8",
   "metadata": {},
   "outputs": [],
   "source": [
    "num_vectors = document_embeddings.shape[0]\n",
    "dimension = document_embeddings.shape[1]\n",
    "num_neighbours = 100\n",
    "title_weight = 0.6\n",
    "document_weight = 1 - title_weight"
   ]
  },
  {
   "cell_type": "code",
   "execution_count": 172,
   "id": "fd84a0a8",
   "metadata": {},
   "outputs": [],
   "source": [
    "title_index = faiss.IndexFlatIP(dimension)\n",
    "\n",
    "title_index.add(normalize(title_embeddings, norm='l2'))\n",
    "\n",
    "document_index = faiss.IndexFlatIP(dimension)\n",
    "document_index.add(normalize(document_embeddings, norm='l2'))"
   ]
  },
  {
   "cell_type": "code",
   "execution_count": 173,
   "id": "b79ab3b5",
   "metadata": {},
   "outputs": [],
   "source": [
    "query = ['what is the cause of diseases']\n",
    "query_embedding = model.encode(query)\n",
    "query_embedding_normalized = normalize(query_embedding, norm='l2')"
   ]
  },
  {
   "cell_type": "code",
   "execution_count": 182,
   "id": "248995f4",
   "metadata": {},
   "outputs": [],
   "source": [
    "papers_dict = {}"
   ]
  },
  {
   "cell_type": "code",
   "execution_count": 183,
   "id": "c7368b7e",
   "metadata": {},
   "outputs": [],
   "source": [
    "title_distances, title_indices = title_index.search(query_embedding_normalized, num_neighbours)\n",
    "document_distances, document_indices = document_index.search(query_embedding_normalized, num_neighbours)"
   ]
  },
  {
   "cell_type": "code",
   "execution_count": 184,
   "id": "801e83f4",
   "metadata": {
    "scrolled": true
   },
   "outputs": [
    {
     "name": "stdout",
     "output_type": "stream",
     "text": [
      "[3585, 1922, 483, 421, 3877, 2824, 2472, 3307, 2764, 1741, 887, 19, 277, 2775, 1496, 1371, 4407, 1822]\n"
     ]
    }
   ],
   "source": [
    "papers = list((set(title_indices[0]) & set(document_indices[0])) | set(title_indices[0, -5:]) | set(document_indices[0, -5:]))\n",
    "print(papers)"
   ]
  },
  {
   "cell_type": "code",
   "execution_count": 207,
   "id": "251f3aa9",
   "metadata": {
    "scrolled": false
   },
   "outputs": [
    {
     "name": "stdout",
     "output_type": "stream",
     "text": [
      "3585 0.8229039 0.7957651\n",
      "1922 0.8096517 0.77606976\n",
      "483 0.69900274 0.79075366\n",
      "421 0.8636091 0.79422915\n",
      "3877 0.8097015 0.75759286\n",
      "2824 0.82425416 0.79487664\n",
      "2472 0.80035007 0.7908313\n",
      "3307 0.778925 0.79065186\n",
      "2764 0.79390657 0.79047155\n",
      "1741 0.8097362 0.78029627\n",
      "887 0.81014943 0.7928622\n",
      "19 0.7935066 0.7907141\n",
      "277 0.8121701 0.82344\n",
      "2775 0.8253701 0.7916711\n",
      "1496 0.8096403 0.777135\n",
      "1371 0.8157666 0.79170644\n",
      "4407 0.809805 0.7973352\n",
      "1822 0.829394 0.7914342\n"
     ]
    }
   ],
   "source": [
    "for paper in papers :\n",
    "    title_distance = 0\n",
    "    document_distance = 0\n",
    "    \n",
    "    if paper in title_indices[0]:\n",
    "        index = np.where(title_indices[0] == paper)\n",
    "        title_distance = title_distances[0][index][0]\n",
    "    else : title_distance = cosine_similarity(title_embeddings[paper].reshape(1, -1), query_embedding)[0][0]\n",
    "    \n",
    "    if paper in document_indices[0]:\n",
    "        index = np.where(document_indices[0] == paper)\n",
    "        document_distance = document_distances[0][index][0]\n",
    "    else : document_distance = cosine_similarity(document_embeddings[paper].reshape(1, -1), query_embedding)[0][0]\n",
    "        \n",
    "\n",
    "    print(paper, title_distance, document_distance)\n",
    "        \n",
    "    papers_dict[paper] = title_weight * title_distance + document_weight * document_distance"
   ]
  },
  {
   "cell_type": "code",
   "execution_count": 208,
   "id": "fc40595b",
   "metadata": {
    "scrolled": true
   },
   "outputs": [
    {
     "data": {
      "text/plain": [
       "{3585: 0.812048363685608,\n",
       " 1922: 0.7962189078330993,\n",
       " 483: 0.7357031106948853,\n",
       " 421: 0.8358571052551269,\n",
       " 3877: 0.7888580441474915,\n",
       " 2824: 0.8125031471252442,\n",
       " 2472: 0.7965425729751587,\n",
       " 3307: 0.7836157441139222,\n",
       " 2764: 0.7925325632095337,\n",
       " 1741: 0.7979602217674255,\n",
       " 887: 0.8032345294952392,\n",
       " 19: 0.7923896074295044,\n",
       " 277: 0.8166780591011047,\n",
       " 2775: 0.8118904829025269,\n",
       " 1496: 0.7966381788253785,\n",
       " 1371: 0.806142520904541,\n",
       " 4407: 0.8048170685768128,\n",
       " 1822: 0.8142100811004638}"
      ]
     },
     "execution_count": 208,
     "metadata": {},
     "output_type": "execute_result"
    }
   ],
   "source": [
    "papers_dict"
   ]
  }
 ],
 "metadata": {
  "kernelspec": {
   "display_name": "deep-learning",
   "language": "python",
   "name": "deep-learning"
  },
  "language_info": {
   "codemirror_mode": {
    "name": "ipython",
    "version": 3
   },
   "file_extension": ".py",
   "mimetype": "text/x-python",
   "name": "python",
   "nbconvert_exporter": "python",
   "pygments_lexer": "ipython3",
   "version": "3.9.4"
  }
 },
 "nbformat": 4,
 "nbformat_minor": 5
}
